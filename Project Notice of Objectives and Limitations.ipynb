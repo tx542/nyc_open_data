{
 "cells": [
  {
   "cell_type": "markdown",
   "id": "e7101f5f",
   "metadata": {},
   "source": [
    "<h2 align = \"center\">NYC Traffic Open Data: Project Notice of Objectives and Limitations</h2>\n",
    "<hr>"
   ]
  },
  {
   "cell_type": "markdown",
   "id": "c8161959",
   "metadata": {},
   "source": [
    "<i>This is a semester-long project for the course <b>ARTS-UG 1647 Making Virtual Sense</b> at <b>New York University, Gallatin School of Individualized Study</b></i>\n",
    "\n",
    "<i>Developed under the advice of <b>Doctor Carl Skelton</b>, solely by <b>Michael Xu</b> (NYU NetID: tx542; Full Legal Name: Tianxiao Xu)</i>\n",
    "\n",
    "<i>A <b>demonstration (\"demo\") of the end product</b> described in this document (sample size = 1000 data points) is published on the World Wide Web (WWW) <b>at the URL <a href = \"https://traffic-demo.herokuapp.com/\" target=\"_blank\">https://traffic-demo.herokuapp.com/</a></b>. Usage of this end product demo is contingent upon the terms and conditions listed in this \"Project Notice of Objectives and Limitations\" document.</i>"
   ]
  },
  {
   "cell_type": "markdown",
   "id": "b9af4b94",
   "metadata": {},
   "source": [
    "<hr>"
   ]
  },
  {
   "cell_type": "markdown",
   "id": "7f8a1b12",
   "metadata": {},
   "source": [
    "<h3 align = \"center\">OUTLINE</h3>\n",
    "<h3>1. Project Disclaimer and Purpose</h3>\n",
    "<h4>1.1 Project Disclaimer (\"Disclaimer\")</h4>\n",
    "<h4>1.2 Project Purpose & Objectives (\"Manifesto\")</h4>\n",
    "<h4>1.3 Project Simulator Specifications (\"Instructions\")</h4>\n",
    "<h3>2. Project Data Sources and References</h3>\n",
    "<h4>2.1 Citation of Critical Data Sources, Programming Libraries/Packages, and Services</h4>\n",
    "<h4>2.2 Citation of All Used Python Programming Libraries</h4>\n",
    "<h3>3. Project Methodology, Limitations, and Directions for Future Research</h3>\n",
    "<h4>3.1 Limited Sample Size</h4>\n",
    "<h4>3.2 Variables Used, KNN Models, and Losses in the Degrees of Freedom</h4>\n",
    "<h4>3.3 Lack of Data and Additional Confounding Variables (Agent-Based Microsimulation Models)</h4>\n",
    "<h4>3.4 Ethical Considerations: Scaling of Population Estimations</h4>\n",
    "<h4>3.5 Directions for Future Research</h4>\n",
    "<h3>4. Contact Information</h3>"
   ]
  },
  {
   "cell_type": "markdown",
   "id": "0b01dde1",
   "metadata": {},
   "source": [
    "<hr>"
   ]
  },
  {
   "cell_type": "markdown",
   "id": "51bcdf6e",
   "metadata": {},
   "source": [
    "### 1. Project Disclaimer and Purpose"
   ]
  },
  {
   "cell_type": "markdown",
   "id": "dcf4f477",
   "metadata": {},
   "source": [
    "#### 1.1 Project Disclaimer (\"Disclaimer\")\n",
    "**IMPORTANT:**\n",
    "\n",
    "**Though this project indeed (factually) produces a functioning prototype of a descriptive and predictive simulator of NYC traffic network patterns that permits interactive user specifications, its main objectives are artistic and illustrative, rather than functional and utilitarian. The project developer thus requests that all end-users use the simulator (as an artistic and illustrative end product of this project) accordingly.**\n",
    "\n",
    "**It shall NOT be used as a model from which extrapolating inferences or generalizations can be made to the real world.**\n",
    "\n",
    "**Furthermore, for any user-inputted proposal regarding the construction of a new \"Road\" or \"Multi-Road\" (see definition in section 1.3 below), this artistic and illustrative simulator will generate a list of warnings (\"ethical considerations\") regarding the areas and people negatively impacted by this proposal (based on the listed stopping points).**\n",
    "\n",
    "**This feature illustrates the necessity of the incorporation of ethical considerations in actual models adapted for real-life urban planning—in the real world (NOT within the scope of this artistic and illustrative simulator), this feature (incorporation of ethical considerations) would help the end-user may more accurately discern the potential socioeconomic costs of their proposal, which may facilitate their marginal decision analysis/making.**"
   ]
  },
  {
   "cell_type": "markdown",
   "id": "8538c516",
   "metadata": {},
   "source": [
    "#### 1.2 Project Purpose & Objectives (\"Manifesto\")\n",
    "\n",
    "This project has largely drawn inspirations from Doctor Carl Skelton's work <i><a href = \"https://uttri.utoronto.ca/files/2019/05/CitizenInformaticsCleaned01reduced.pdf\" target=\"_blank\">Citizen Informatics: Integrating Urban Data and Design for Future Stakeholders</a></i>. The project is developed with the aim that big data—especially real-time data points pertaining to descriptive features related to urban planning—should not only be made **publicly available**, but also **easily accessible, manipulable, and operable** by any citizens as direct and active participants to urban planning in the *planning* stage (e.g. as proposers of policies/models, independent evaluators of existing proposals, operators of big data for statistical inferences, etc.). \n",
    "\n",
    "It further concurs with the nascent notion that *literacy* shall be redefined to include *data literacy* in our era of big-data and digitalization, and that *standards of literacy* are not only those *crude and passive*, but rather must also include the ability, of the literate population, to **make sense of, manipulate, and thereby create new content using existing information**. \n",
    "\n",
    "This project focuses on **modeling the traffic network patterns of the City of New York**, due to considerations that traffic networks largely define modern physical mobility, a characteristic essential to models in the social sciences ranging from economic analyses to urban planning (optimizing citizen life quality/living experience). Furthermore, citizens/residents of the City of New York are already automatically (and oftentimes unwittingly) *passive participants in the city's traffic network*. It is meaningful and rightfully pertaining to civil duties that they may be empowered with the *easily accessible, manipulable, and operable* big data information so that they may become *active and literate participants* in the planning of the traffic network of the City.\n",
    "\n",
    "With regards to the **public availability of open data**, the City of New York shall be recognized and commended for its easily accessible <i><a href = \"https://opendata.cityofnewyork.us/\" target = \"_blank\">public open data database</a></i>. Nonetheless, for instance, its <i><a href = \"https://data.cityofnewyork.us/Transportation/Real-Time-Traffic-Speed-Data/qkm5-nuaq\" target = \"_blank\">Real-Time Traffic Speed Data</a></i> provided by the NYCDOT (<i><a href = \"http://nyctmc.org/ \" target = \"_blank\">New York City Department of Transportation</a></i>) is **NOT easily accessible, manipulable, and operable at all**. A simple glance over the dataset can reveal that it is poorly organized (left in a tabular form, without even any descriptive statistics), presented in string (and thus non-machine-readable nor -analyzable) formats, and without informative and visual illustrations. \n",
    "\n",
    "Therefore, with the broader objective of **supporting, informing, and encouraging broad public participation in urban (traffic) planning**, the developer of this project has developed a functioning prototype of a **descriptive and predictive simulator of NYC traffic network patterns that permits interactive user specifications (the exact functions to be specified in section 1.3 below)**. Of course, due to the limited scope of this project, the end-product is more of an **artistic and illustrative prototype**, and **shall NOT be used as a model from which extrapolating inferences or generalizations can be made to the real world**.\n",
    "\n",
    "It will, nonetheless, call on and invite scholars and experts in the relevant fields, to pay attention and efforts to **figuratively constructing the bridge that is necessary to connect public datasets (in non-user-friendly formats) with end-users (who may not necessarily have great skills or expertise in data science, statistical inferences and modeling, or relevant fields), thereby fostering broad public participation in urban (traffic) planning—with minimum assumptions/skill requirements, but rather maximum inclusion of the end-users as modern citizens in urban settings**."
   ]
  },
  {
   "cell_type": "markdown",
   "id": "bce1bc0f",
   "metadata": {},
   "source": [
    "#### 1.3 Project Simulator Specifications (\"Instructions\")\n",
    "*Note: this instruction is appended to the header of the actual simulator itself as well, for easier access and to avoid confusions in operations.*\n",
    "\n",
    "<b>Instructions:</b>\n",
    "\n",
    "You have <b>four</b> possible modification options (different scenarios) to run the simulation with:\n",
    "<ol>\n",
    "  <li><b>None: No modifications.</b> You can <b>select a borough</b> in the <i>Borough</i> section to view a descriptive \n",
    "  interactive illustration (on the map below) of the traffic network patterns of the <i>entire borough</i>. Note: \n",
    "  viewing the traffic information and metadata of a specific street has been depreciated, due to the interdependent and \n",
    "  inter-correlated nature of traffic networks on the borough level. </li>\n",
    "  \n",
    "  <li><b>Construction: Place a specific road under construction.</b> You can select a borough in the <i>Borough</i> section, \n",
    "  and the name of a specific street (with real-time surveillance data available from the \n",
    "  <i><u><a href = \"https://data.cityofnewyork.us/Transportation/Real-Time-Traffic-Speed-Data/qkm5-nuaq\" target=\"_blank\" style=\"color:blue;\">\n",
    "  NYC Open Data database</a></u></i>) of that borough in the <i>Traffic Link ...</i> section to place it under construction. \n",
    "  And as this road will be under construction, it will be taken down from the overall\n",
    "  traffic network, thereby (likely) influencing the borough-level traffic patterns. </li>\n",
    "  \n",
    "  <li><b>New Road: Proposal to build a new road (in addition to the existing \"grid\" traffic network).</b> \n",
    "  You will <b>only</b> need to enter the street address (as accurate as possible) of the <b>starting point</b> in the \n",
    "  <i>Starting Point</i> section, and that of the <b>ending point</b> in the <i>Ending Point</i> section. \n",
    "  You won't need to enter anything else in any other sections (they will be invisible anyway, to avoid confusion).</li>\n",
    "  \n",
    "  <li><b>New Multi-Road: Proposal to build a new road, with multiple stopping points.</b> In the <i>Multi-Road</i>\n",
    "  text box, enter the street address of each of the proposed stopping points in a new line (separate by the <i>enter/return</i> key). \n",
    "  Make sure that the address for every location is <b>accurate (to the best of your knowledge)</b>—otherwise,\n",
    "  the simulator may not be able to locate your proposed point and return an error. </li>\n",
    "</ol>"
   ]
  },
  {
   "cell_type": "markdown",
   "id": "4eaba147",
   "metadata": {},
   "source": [
    "### 2. Project Data Sources and References"
   ]
  },
  {
   "cell_type": "markdown",
   "id": "4e3ed75d",
   "metadata": {},
   "source": [
    "#### 2.1 Citation of Critical Data Sources, Programming Libraries/Packages, and Services\n",
    "- <b>Source of Raw Data:</b> \n",
    "    - <i><a href = \"https://opendata.cityofnewyork.us/\" target = \"_blank\">NYC Open Data dataset</a></i>, published by the City of New York\n",
    "    - <i><a href = \"https://data.cityofnewyork.us/Transportation/Real-Time-Traffic-Speed-Data/qkm5-nuaq\" target = \"_blank\">Real-Time Traffic Speed Data</a></i> provided by the NYCDOT (<i><a href = \"http://nyctmc.org/ \" target = \"_blank\">New York City Department of Transportation</a></i>)\n",
    "    \n",
    "    \n",
    "- <b>Folium Python Library (for visualization of metadata on an interactive map):</b> \n",
    "    - <a href = \"https://leafletjs.com/\">Leaflet</a> | Data by © <a href = \"http://openstreetmap.org/\">OpenStreetMap</a>, under <a href = \"http://www.openstreetmap.org/copyright\">ODbL</a>.\n",
    "    \n",
    "    \n",
    "- <b>Search Queries API (to look up location metadata based on user-inputted address):</b>\n",
    "    - OpenStreetMap (OSM) - Nominatim © OpenStreetMap contributors. \n",
    "    - OpenStreetMap® is open data, licensed under the Open Data Commons Open Database License (ODbL) by the OpenStreetMap Foundation (OSMF). The data is available under the Open Database License. https://www.openstreetmap.org/copyright\n",
    "\n",
    "\n",
    "- <b>Population Estimation Service (for ethical considerations: estimating the negatively impacted population:</b>\n",
    "    - Center for International Earth Science Information Network - CIESIN - Columbia University. 2018. Population Estimation Service, Version 3 (PES-v3). Palisades, NY: NASA Socioeconomic Data and Applications Center (SEDAC). https://doi.org/10.7927/H4DR2SK5. Accessed December 2021. https://sedac.ciesin.columbia.edu/data/collection/gpw-v4/population-estimation-service"
   ]
  },
  {
   "cell_type": "markdown",
   "id": "17bd331e",
   "metadata": {},
   "source": [
    "#### 2.2 Citation of All Used Python Programming Libraries \n",
    "<i> Produced using <a href = \"https://pypi.org/project/citepy/\">citepy</a></i>\n",
    "\n",
    "Ahmed TAHRI @Ousret. (2021, December 3). charset-normalizer. GitHub. https://github.com/ousret/charset_normalizer (Original work published 2019)\n",
    "\n",
    "Alex Grönholm. (2021, November 22). anyio. The Python Package Index. https://pypi.org/project/anyio/ (Original work published 2018)\n",
    "\n",
    "Chris L. Barnes. (2021, May 11). citepy. GitHub. https://www.github.com/clbarnes/citepy (Original work published 2019)\n",
    "\n",
    "Daniel Holth. (2021, August 9). wheel. GitHub. https://github.com/pypa/wheel (Original work published 2012)\n",
    "\n",
    "Hynek Schlawack. (2021, May 7). attrs. attrs.org. https://www.attrs.org/ (Original work published 2015)\n",
    "\n",
    "Ian Stapleton Cordasco. (2021, May 7). rfc3986. ReadTheDocs. http://rfc3986.readthedocs.io (Original work published 2014)\n",
    "\n",
    "Isaac Muse. (2021, November 11). soupsieve. GitHub. https://github.com/facelessuser/soupsieve (Original work published 2018)\n",
    "\n",
    "Julian Berman. (2021, November 5). jsonschema. GitHub. https://github.com/Julian/jsonschema (Original work published 2012)\n",
    "\n",
    "Kenneth Reitz. (2021, October 8). certifi. ReadTheDocs. https://certifiio.readthedocs.io/en/latest/ (Original work published 2011)\n",
    "\n",
    "Kim Davies. (2021, October 12). idna. GitHub. https://github.com/kjd/idna (Original work published 2013)\n",
    "\n",
    "Leonard Richardson. (2021, September 8). beautifulsoup4. crummy.com. http://www.crummy.com/software/BeautifulSoup/bs4/ (Original work published 2013)\n",
    "\n",
    "Nathaniel J. Smith. (2020, October 11). sniffio. GitHub. https://github.com/python-trio/sniffio (Original work published 2018)\n",
    "\n",
    "Nathaniel J. Smith. (2021, January 1). h11. GitHub. https://github.com/python-hyper/h11 (Original work published 2016)\n",
    "\n",
    "Python Packaging Authority. (2021, December 5). setuptools. GitHub. https://github.com/pypa/setuptools (Original work published 2006)\n",
    "\n",
    "The pip developers. (2021, October 22). pip. pip.pypa.io. https://pip.pypa.io/ (Original work published 2008)\n",
    "\n",
    "Tobias Gustafsson. (2021, June 28). pyrsistent. GitHub. http://github.com/tobgu/pyrsistent/ (Original work published 2013)\n",
    "\n",
    "Tom Christie. (2021a, November 16). httpx. GitHub. https://github.com/encode/httpx (Original work published 2019)\n",
    "\n",
    "Tom Christie. (2021b, November 17). httpcore. GitHub. https://github.com/encode/httpcore (Original work published 2019)\n"
   ]
  },
  {
   "cell_type": "markdown",
   "id": "089a7c20",
   "metadata": {},
   "source": [
    "### 3. Project Methodology, Limitations, and Directions for Future Research"
   ]
  },
  {
   "cell_type": "markdown",
   "id": "037aaf58",
   "metadata": {},
   "source": [
    "#### 3.1 Limited Sample Size\n",
    "In the published **demonstration (\"demo\") of the end product**, a **most recent sample of 1,000 data points is requested from the server of the <i><a href = \"https://data.cityofnewyork.us/Transportation/Real-Time-Traffic-Speed-Data/qkm5-nuaq\" target = \"_blank\">Real-Time Traffic Speed Data</a></i> dataset**. This is largely due to considerations of compatibility of the computing power of different devices and operating systems—**1,000 data points would still be statistically large enough** (for theorems such as the *Law of Large Numbers* or *Central Limit Theorem* to hold—which validates the unbiasedness and consistency of the inferences of the models), while **not so large that the server queries place significant burdens on the devices of end-users** (or the queries may simply take too much time and negatively impact user experiences). \n",
    "\n",
    "Nonetheless, the size of the entire population of the aforementioned dataset is 56,332,638 (as of 16:34 EST, Monday, Dec. 6, 2021), and this number is constantly increasing with more recent traffic surveillance obervations being uploaded to the server. Thus, the sample being studied in this simulator (and its relevant models) **may not necessarily be representative of the behavioral variations of traffic network patterns within boroughs across time in its entirity**—due to practical considerations and the limited scope of this project—thus **statistical inferences with real-world implications should NOT be drawn from this simulator, as consistently mentioned above**. "
   ]
  },
  {
   "cell_type": "markdown",
   "id": "05223883",
   "metadata": {},
   "source": [
    "#### 3.2 Variables Used, KNN Models, and Losses in the Degrees of Freedom\n",
    "For the first step, from the source the <i><a href = \"https://data.cityofnewyork.us/Transportation/Real-Time-Traffic-Speed-Data/qkm5-nuaq\" target = \"_blank\">Real-Time Traffic Speed Data</a></i> dataset, only the variables `SPEED` (renamed as `rou_speed` in the model dataframe), `TRAVEL_TIME` (renamed as `tr_time` in the model dataframe), `DATA_AS_OF` (renamed as `time_s` in the model dataframe), `LINK_POINTS` (transformed from `string` into a Python `LineString` object, under the new column variable label `geometry`), `BOROUGH` (renamed as `boro` in the model dataframe), and `LINK_NAME` (renamed as `names` in the model dataframe) are requested and stored locally in the model (each having been processed as respectively indicated in the parenthesis next to the variable label). These information have been sufficient for the purpose of **descriptive illustrations of traffic network patterns (travel time, travel speed, and metadata) on the borough level**.\n",
    "\n",
    "Nonetheless, all the other functions (\"Construction\", \"New Road\", \"New Multi-Road\") of this simulator inherently involve predictive modeling. The model approach of **KNN (K-Nearest Neighbors)**, provided by the `scikit-learn` Python library, has been chosen...\n",
    "\n",
    "KNN models used - Euclidean distance - \"behaving most akin to these existing records of these streets\". Behaving more consistent and reliable than RF or logistic regressions (common alternative machine learning models).\n",
    "\n",
    "Optimal hyperparamter - based on historical average (again, finding it every time would be computationally costly)\n",
    "\n",
    "loss of up to 3 degrees of freedom; not very strong explanatory powers (w.r.t explained variations)\n"
   ]
  },
  {
   "cell_type": "markdown",
   "id": "26f19a52",
   "metadata": {},
   "source": [
    "#### 3.3 Lack of Data and Additional Confounding Variables (Agent-Based Microsimulation Models)\n",
    "Omitted Variable Bias (could explain the not so strong R^2)\n",
    "demand side of the NYC population - lack of data, skillset, or relevant adapted libraries\n",
    "\n",
    "MTA - public transit\n",
    "\n",
    "Pedestrian circulation\n",
    "\n",
    "Cellular deviced traffic data. Infering from speed: walk/drive; discard pedestrians (walking). The full spectrum of circulations (mobility), "
   ]
  },
  {
   "cell_type": "markdown",
   "id": "11052467",
   "metadata": {},
   "source": [
    "#### 3.4 Ethical Considerations: Scaling of Population Estimations"
   ]
  },
  {
   "cell_type": "markdown",
   "id": "5c0db1c5",
   "metadata": {},
   "source": [
    "#### 3.5 Directions for Future Research"
   ]
  },
  {
   "cell_type": "markdown",
   "id": "fc2396b0",
   "metadata": {},
   "source": [
    "### 4. Contact Information"
   ]
  },
  {
   "cell_type": "markdown",
   "id": "dbfb95b8",
   "metadata": {},
   "source": [
    "This project is a semester-long project for the course ARTS-UG 1647 Making Virtual Sense at New York University, Gallatin School of Individualized Study. It has been developed under the advice of Doctor Carl Skelton, solely by Michael Xu (NYU NetID: tx542; Full Legal Name: Tianxiao Xu). \n",
    "\n",
    "For any pertinent inquiries (from feedbacks/comments on this project, to further academic discussions), please reach out to the sole project developer, <b>Michael Xu, at <a href = \"mailto:michael.xu@nyu.edu\">michael.xu@nyu.edu</a></b>. Note that the sole project developer is an undergraduate student at New York University Abu Dhabi. "
   ]
  },
  {
   "cell_type": "markdown",
   "id": "21048a67",
   "metadata": {},
   "source": [
    "<hr>\n",
    "<a rel=\"license\" href=\"http://creativecommons.org/licenses/by-nc-sa/4.0/\"><img alt=\"Creative Commons License\" style=\"border-width:0\" src=\"https://i.creativecommons.org/l/by-nc-sa/4.0/88x31.png\" /></a><br />This work is licensed under a <a rel=\"license\" href=\"http://creativecommons.org/licenses/by-nc-sa/4.0/\">Creative Commons Attribution-NonCommercial-ShareAlike 4.0 International License</a>."
   ]
  }
 ],
 "metadata": {
  "kernelspec": {
   "display_name": "Python 3 (ipykernel)",
   "language": "python",
   "name": "python3"
  },
  "language_info": {
   "codemirror_mode": {
    "name": "ipython",
    "version": 3
   },
   "file_extension": ".py",
   "mimetype": "text/x-python",
   "name": "python",
   "nbconvert_exporter": "python",
   "pygments_lexer": "ipython3",
   "version": "3.8.5"
  }
 },
 "nbformat": 4,
 "nbformat_minor": 5
}
